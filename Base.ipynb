{
 "cells": [
  {
   "cell_type": "markdown",
   "metadata": {},
   "source": [
    "# **Proyecto Gestion de Tiempo**"
   ]
  },
  {
   "cell_type": "markdown",
   "metadata": {},
   "source": [
    "Start with data base in SQLAlchemy\n",
    "\n",
    "## DB"
   ]
  },
  {
   "cell_type": "code",
   "execution_count": 2,
   "metadata": {},
   "outputs": [],
   "source": [
    "from sqlalchemy import create_engine, Column, Integer, String, ForeignKey, DateTime\n",
    "from sqlalchemy.orm import sessionmaker, relationship, declarative_base\n",
    "from datetime import datetime"
   ]
  },
  {
   "cell_type": "code",
   "execution_count": 3,
   "metadata": {},
   "outputs": [],
   "source": [
    "Base = declarative_base()\n",
    "\n",
    "engine = create_engine('sqlite:///PGestion.db', echo = True)"
   ]
  },
  {
   "cell_type": "code",
   "execution_count": 4,
   "metadata": {},
   "outputs": [],
   "source": [
    "#Usuario\n",
    "class Usuario(Base):\n",
    "    \"\"\"Modelo de usuarios\"\"\"\n",
    "    __tablename__ = 'USUARIOS'\n",
    "    id = Column(Integer, primary_key=True)\n",
    "    name = Column(String(50),nullable=False)\n",
    "    email = Column(String(50), unique= True, nullable=False)\n",
    "    password = Column(String(50),nullable=False)\n",
    "\n",
    "    tareas = relationship(\"Tarea\", back_populates=\"usuario\")\n",
    "    \n",
    "    def __repr__(self):\n",
    "        \"\"\"Representación en string del objeto Usuario\"\"\"\n",
    "        return f\"<Usuario(nombre='{self.name}', email='{self.email}')>\"\n",
    "    \n",
    "\n",
    "class Tarea(Base):\n",
    "    \"\"\"Modelo de Tareas\"\"\"\n",
    "    __tablename__= 'TAREAS'\n",
    "    id = Column(Integer,primary_key=True)\n",
    "    name = Column(String(100),nullable=False)\n",
    "    description = Column(String(200))\n",
    "    fecha = Column(DateTime,default=datetime.utcnow)\n",
    "    usuario_id = Column(Integer, ForeignKey('USUARIOS.id'))\n",
    "\n",
    "    usuario = relationship(\"Usuario\",back_populates=\"tareas\")\n",
    "    def __repr__(self):\n",
    "        \"\"\"Representación en string del objeto Tarea\"\"\"\n",
    "        return f\"<Tarea(titulo='{self.name}', usuario_id={self.usuario_id})>\"\n",
    "\n"
   ]
  },
  {
   "cell_type": "code",
   "execution_count": 5,
   "metadata": {},
   "outputs": [
    {
     "name": "stdout",
     "output_type": "stream",
     "text": [
      "2024-12-16 17:01:39,459 INFO sqlalchemy.engine.Engine BEGIN (implicit)\n",
      "2024-12-16 17:01:39,461 INFO sqlalchemy.engine.Engine PRAGMA main.table_info(\"USUARIOS\")\n",
      "2024-12-16 17:01:39,462 INFO sqlalchemy.engine.Engine [raw sql] ()\n",
      "2024-12-16 17:01:39,463 INFO sqlalchemy.engine.Engine PRAGMA temp.table_info(\"USUARIOS\")\n",
      "2024-12-16 17:01:39,463 INFO sqlalchemy.engine.Engine [raw sql] ()\n",
      "2024-12-16 17:01:39,463 INFO sqlalchemy.engine.Engine PRAGMA main.table_info(\"TAREAS\")\n",
      "2024-12-16 17:01:39,468 INFO sqlalchemy.engine.Engine [raw sql] ()\n",
      "2024-12-16 17:01:39,468 INFO sqlalchemy.engine.Engine PRAGMA temp.table_info(\"TAREAS\")\n",
      "2024-12-16 17:01:39,468 INFO sqlalchemy.engine.Engine [raw sql] ()\n",
      "2024-12-16 17:01:39,468 INFO sqlalchemy.engine.Engine \n",
      "CREATE TABLE \"USUARIOS\" (\n",
      "\tid INTEGER NOT NULL, \n",
      "\tname VARCHAR(50) NOT NULL, \n",
      "\temail VARCHAR(50) NOT NULL, \n",
      "\tpassword VARCHAR(50) NOT NULL, \n",
      "\tPRIMARY KEY (id), \n",
      "\tUNIQUE (email)\n",
      ")\n",
      "\n",
      "\n",
      "2024-12-16 17:01:39,468 INFO sqlalchemy.engine.Engine [no key 0.00150s] ()\n",
      "2024-12-16 17:01:39,479 INFO sqlalchemy.engine.Engine \n",
      "CREATE TABLE \"TAREAS\" (\n",
      "\tid INTEGER NOT NULL, \n",
      "\tname VARCHAR(100) NOT NULL, \n",
      "\tdescription VARCHAR(200), \n",
      "\tfecha DATETIME, \n",
      "\tusuario_id INTEGER, \n",
      "\tPRIMARY KEY (id), \n",
      "\tFOREIGN KEY(usuario_id) REFERENCES \"USUARIOS\" (id)\n",
      ")\n",
      "\n",
      "\n",
      "2024-12-16 17:01:39,479 INFO sqlalchemy.engine.Engine [no key 0.00104s] ()\n",
      "2024-12-16 17:01:39,486 INFO sqlalchemy.engine.Engine COMMIT\n"
     ]
    }
   ],
   "source": [
    "Base.metadata.create_all(engine)\n",
    "\n",
    "Session = sessionmaker(bind=engine)\n",
    "session = Session()\n",
    "\n",
    "\n"
   ]
  },
  {
   "cell_type": "code",
   "execution_count": 6,
   "metadata": {},
   "outputs": [],
   "source": [
    "usuario_test = Usuario(name='Juan', email='ja@gmail.com')"
   ]
  },
  {
   "cell_type": "code",
   "execution_count": 7,
   "metadata": {},
   "outputs": [
    {
     "data": {
      "text/plain": [
       "<Usuario(nombre='Juan', email='ja@gmail.com')>"
      ]
     },
     "execution_count": 7,
     "metadata": {},
     "output_type": "execute_result"
    }
   ],
   "source": [
    "usuario_test"
   ]
  }
 ],
 "metadata": {
  "kernelspec": {
   "display_name": "env",
   "language": "python",
   "name": "python3"
  },
  "language_info": {
   "codemirror_mode": {
    "name": "ipython",
    "version": 3
   },
   "file_extension": ".py",
   "mimetype": "text/x-python",
   "name": "python",
   "nbconvert_exporter": "python",
   "pygments_lexer": "ipython3",
   "version": "3.12.4"
  }
 },
 "nbformat": 4,
 "nbformat_minor": 2
}
